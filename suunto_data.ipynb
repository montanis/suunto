{
 "cells": [
  {
   "cell_type": "code",
   "execution_count": null,
   "metadata": {},
   "outputs": [],
   "source": [
    "import pandas as pd\n",
    "import numpy as np\n",
    "import matplotlib.pyplot "
   ]
  },
  {
   "cell_type": "code",
   "execution_count": null,
   "metadata": {},
   "outputs": [],
   "source": [
    "# Load the data\n",
    "data = pd.read_csv('data/suunto_data.csv')"
   ]
  },
  {
   "cell_type": "code",
   "execution_count": null,
   "metadata": {},
   "outputs": [],
   "source": [
    "import datetime\n",
    "\n",
    "# For each record, extract the first 8 characters of the Time column\n",
    "data['Time'] = data['Time'].str[:8]\n",
    "\n",
    "# Convert the Time column to a datetime object with the format 'dd/mm/yy'\n",
    "data['Time'] = pd.to_datetime(data['Time'], format='%d/%m/%y')\n",
    "\n",
    "# I want to change the datetime format to 'dd/mm/yy'\n",
    "data['Time'] = data['Time'].dt.strftime('%d/%m/%y')\n",
    "print(data['Time'])"
   ]
  }
 ],
 "metadata": {
  "language_info": {
   "name": "python"
  }
 },
 "nbformat": 4,
 "nbformat_minor": 2
}
