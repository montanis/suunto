{
 "cells": [
  {
   "cell_type": "code",
   "execution_count": 3,
   "metadata": {},
   "outputs": [],
   "source": [
    "import pandas as pd\n",
    "import numpy as np\n",
    "import matplotlib.pyplot "
   ]
  },
  {
   "cell_type": "code",
   "execution_count": 4,
   "metadata": {},
   "outputs": [],
   "source": [
    "# Load the data\n",
    "data = pd.read_csv('data/Suunto_data.csv')"
   ]
  },
  {
   "cell_type": "code",
   "execution_count": 5,
   "metadata": {},
   "outputs": [
    {
     "name": "stdout",
     "output_type": "stream",
     "text": [
      "0      29/01/24\n",
      "1      22/01/24\n",
      "2      15/01/24\n",
      "3      08/01/24\n",
      "4      01/01/24\n",
      "         ...   \n",
      "309    26/02/18\n",
      "310    19/02/18\n",
      "311    12/02/18\n",
      "312    05/02/18\n",
      "313    29/01/18\n",
      "Name: Time, Length: 314, dtype: object\n"
     ]
    }
   ],
   "source": [
    "import datetime\n",
    "\n",
    "# For each record, extract the first 8 characters of the Time column\n",
    "data['Time'] = data['Time'].str[:8]\n",
    "\n",
    "# Convert the Time column to a datetime object with the format 'dd/mm/yy'\n",
    "data['Time'] = pd.to_datetime(data['Time'], format='%d/%m/%y')\n",
    "\n",
    "# I want to change the datetime format to 'dd/mm/yy'\n",
    "data['Time'] = data['Time'].dt.strftime('%d/%m/%y')\n",
    "print(data['Time'])"
   ]
  }
 ],
 "metadata": {
  "kernelspec": {
   "display_name": "base",
   "language": "python",
   "name": "python3"
  },
  "language_info": {
   "codemirror_mode": {
    "name": "ipython",
    "version": 3
   },
   "file_extension": ".py",
   "mimetype": "text/x-python",
   "name": "python",
   "nbconvert_exporter": "python",
   "pygments_lexer": "ipython3",
   "version": "3.11.3"
  }
 },
 "nbformat": 4,
 "nbformat_minor": 2
}
