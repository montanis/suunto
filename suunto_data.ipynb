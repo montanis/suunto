{
 "cells": [
  {
   "cell_type": "code",
   "execution_count": 1,
   "metadata": {},
   "outputs": [],
   "source": [
    "import pandas as pd\n",
    "import numpy as np\n",
    "import matplotlib.pyplot "
   ]
  },
  {
   "cell_type": "code",
   "execution_count": 2,
   "metadata": {},
   "outputs": [],
   "source": [
    "# Load the data\n",
    "data = pd.read_csv('data/Suunto_data.csv')"
   ]
  },
  {
   "cell_type": "code",
   "execution_count": 3,
   "metadata": {},
   "outputs": [
    {
     "name": "stdout",
     "output_type": "stream",
     "text": [
      "0      29/01/24\n",
      "1      22/01/24\n",
      "2      15/01/24\n",
      "3      08/01/24\n",
      "4      01/01/24\n",
      "         ...   \n",
      "309    26/02/18\n",
      "310    19/02/18\n",
      "311    12/02/18\n",
      "312    05/02/18\n",
      "313    29/01/18\n",
      "Name: Time, Length: 314, dtype: object\n"
     ]
    }
   ],
   "source": [
    "import datetime\n",
    "\n",
    "# For each record, extract the first 8 characters of the Time column\n",
    "data['Time'] = data['Time'].str[:8]\n",
    "\n",
    "# Convert the Time column to a datetime object with the format 'dd/mm/yy'\n",
    "data['Time'] = pd.to_datetime(data['Time'], format='%d/%m/%y')\n",
    "\n",
    "# I want to change the datetime format to 'dd/mm/yy'\n",
    "data['Time'] = data['Time'].dt.strftime('%d/%m/%y')\n",
    "print(data['Time'])"
   ]
  },
  {
   "cell_type": "code",
   "execution_count": 4,
   "metadata": {},
   "outputs": [
    {
     "name": "stdout",
     "output_type": "stream",
     "text": [
      "0       60.16\n",
      "1       69.05\n",
      "2       66.42\n",
      "3       55.20\n",
      "4       64.73\n",
      "        ...  \n",
      "309     31.52\n",
      "310    159.70\n",
      "311     52.57\n",
      "312    100.30\n",
      "313     21.14\n",
      "Name: Distance, Length: 314, dtype: float64\n"
     ]
    }
   ],
   "source": [
    " # I want to remove the 'km' from the Distance column and convert it to a float. I need to replace comma with a dot to be able to do that. Skip the rows that contain '-'\n",
    "data['Distance'] = data['Distance'].replace('-', np.nan)\n",
    "data['Distance'] = data['Distance'].str.replace('km', '')\n",
    "data['Distance'] = data['Distance'].str.replace(',', '.').astype(float)\n",
    "\n",
    "\n",
    "print(data['Distance'])\n"
   ]
  },
  {
   "cell_type": "code",
   "execution_count": 5,
   "metadata": {},
   "outputs": [
    {
     "name": "stdout",
     "output_type": "stream",
     "text": [
      "0      11.5\n",
      "1      11.8\n",
      "2       9.2\n",
      "3      11.3\n",
      "4      10.8\n",
      "       ... \n",
      "309     3.9\n",
      "310     6.5\n",
      "311    12.8\n",
      "312    11.4\n",
      "313    11.7\n",
      "Name: Avg speed, Length: 314, dtype: float64\n"
     ]
    }
   ],
   "source": [
    "# Do the same for the Avg Avg speed column, but convert it to a float   \n",
    "data['Avg speed'] = data['Avg speed'].replace('-', np.nan)\n",
    "data['Avg speed'] = data['Avg speed'].str.replace('km/h', '')\n",
    "data['Avg speed'] = data['Avg speed'].str.replace(',', '.').astype(float)\n",
    "\n",
    "print(data['Avg speed'])"
   ]
  },
  {
   "cell_type": "code",
   "execution_count": 6,
   "metadata": {},
   "outputs": [
    {
     "name": "stdout",
     "output_type": "stream",
     "text": [
      "0     0 days 05:12:40\n",
      "1     0 days 05:50:39\n",
      "2     0 days 07:13:38\n",
      "3     0 days 05:54:10\n",
      "4     0 days 06:01:02\n",
      "            ...      \n",
      "309   0 days 08:01:47\n",
      "310   1 days 00:28:01\n",
      "311   0 days 04:06:52\n",
      "312   0 days 08:48:12\n",
      "313   0 days 01:48:09\n",
      "Name: Duration, Length: 314, dtype: timedelta64[ns]\n"
     ]
    },
    {
     "name": "stderr",
     "output_type": "stream",
     "text": [
      "/var/folders/9b/frrhgpdd5pd7by2_7c1l7wsh0000gn/T/ipykernel_46477/3862107455.py:4: FutureWarning: The default value of regex will change from True to False in a future version. In addition, single character regular expressions will *not* be treated as literal strings when regex=True.\n",
      "  data['Duration'] = data['Duration'].str.replace('.', ':00')\n"
     ]
    }
   ],
   "source": [
    "\n",
    "\n",
    "data['Duration'] = data['Duration'].replace('-', np.nan)\n",
    "data['Duration'] = data['Duration'].str.replace(\"'\", \":\")\n",
    "# Remove the dot and replace the numbers after the dot with zeros\n",
    "data['Duration'] = data['Duration'].str.replace('.', ':00')\n",
    "\n",
    "\n",
    "# Function to convert string to timedelta\n",
    "from datetime import timedelta\n",
    "def convert_to_timedelta(time_str):\n",
    "    if pd.notnull(time_str):\n",
    "        hours, minutes, seconds = map(int, time_str.split(':'))\n",
    "        return timedelta(hours=hours, minutes=minutes, seconds=seconds)\n",
    "    else:\n",
    "        return pd.NaT\n",
    "data['Duration'] = data['Duration'].apply(convert_to_timedelta)\n",
    "print(data['Duration'])"
   ]
  }
 ],
 "metadata": {
  "kernelspec": {
   "display_name": "base",
   "language": "python",
   "name": "python3"
  },
  "language_info": {
   "codemirror_mode": {
    "name": "ipython",
    "version": 3
   },
   "file_extension": ".py",
   "mimetype": "text/x-python",
   "name": "python",
   "nbconvert_exporter": "python",
   "pygments_lexer": "ipython3",
   "version": "3.11.3"
  }
 },
 "nbformat": 4,
 "nbformat_minor": 2
}
